{
 "cells": [
  {
   "cell_type": "markdown",
   "id": "f2ec7099",
   "metadata": {},
   "source": [
    "# Simple if-else structure examples"
   ]
  },
  {
   "cell_type": "code",
   "execution_count": 11,
   "id": "45ad0cad",
   "metadata": {},
   "outputs": [],
   "source": [
    "from typing import Union"
   ]
  },
  {
   "cell_type": "code",
   "execution_count": 12,
   "id": "c96e4c26",
   "metadata": {},
   "outputs": [
    {
     "name": "stdout",
     "output_type": "stream",
     "text": [
      "Pakistan\n"
     ]
    }
   ],
   "source": [
    "\n",
    "if True:  # Condition is True\n",
    "    print(\"Pakistan\")  # Executes if condition is True\n",
    "else:\n",
    "    print(\"Other\")  # Executes if condition is False\n"
   ]
  },
  {
   "cell_type": "code",
   "execution_count": 13,
   "id": "1ec187ed",
   "metadata": {},
   "outputs": [
    {
     "name": "stdout",
     "output_type": "stream",
     "text": [
      "Other\n"
     ]
    }
   ],
   "source": [
    "\n",
    "if False:  # Condition is False\n",
    "    print(\"Pakistan\")\n",
    "else:\n",
    "    print(\"Other\")  # Executes since condition is False\n"
   ]
  },
  {
   "cell_type": "markdown",
   "id": "aa3b9518",
   "metadata": {},
   "source": [
    "# Ternary operator example"
   ]
  },
  {
   "cell_type": "code",
   "execution_count": 14,
   "id": "70e2da9c",
   "metadata": {},
   "outputs": [
    {
     "name": "stdout",
     "output_type": "stream",
     "text": [
      "HyperX\n"
     ]
    }
   ],
   "source": [
    "\n",
    "print(\"HyperX\") if True else print(\"Razer\")  # One-liner conditional logic\n"
   ]
  },
  {
   "cell_type": "markdown",
   "id": "54f8c2c9",
   "metadata": {},
   "source": [
    "# Example of if, elif, else chain"
   ]
  },
  {
   "cell_type": "code",
   "execution_count": 15,
   "id": "c6b158e6",
   "metadata": {},
   "outputs": [
    {
     "name": "stdout",
     "output_type": "stream",
     "text": [
      "True_block\n",
      "If else logic completed\n"
     ]
    }
   ],
   "source": [
    "\n",
    "if True:  # First condition is True, so this block runs\n",
    "    print(\"True_block\")\n",
    "elif False:  # Skipped, as previous condition was True\n",
    "    print(\"elif logic 1\")\n",
    "elif False:  # Skipped\n",
    "    print(\"elif logic 2\")\n",
    "elif False:  # Skipped\n",
    "    print(\"elif logic 3\")\n",
    "else:  # Skipped, no conditions triggered this block\n",
    "    print(\"Final else block\")\n",
    "\n",
    "print(\"If else logic completed\")  # Code execution reaches here after conditions\n"
   ]
  },
  {
   "cell_type": "markdown",
   "id": "dcceaa92",
   "metadata": {},
   "source": [
    "# Grading system based on percentage"
   ]
  },
  {
   "cell_type": "code",
   "execution_count": 16,
   "id": "5bacb102",
   "metadata": {},
   "outputs": [
    {
     "name": "stdout",
     "output_type": "stream",
     "text": [
      "Dear Student, your percentage is 72.0 and your calculated grade is B Grade.\n"
     ]
    }
   ],
   "source": [
    "\n",
    "percentage: Union[int, float] = float(input(\"Enter your percentage: \"))  # Accepts percentage input\n",
    "grade: Union[str, None] = None  # Variable to store grade\n",
    "\n",
    "# Determine grade based on percentage ranges\n",
    "if (percentage >= 90) and (percentage <= 100):\n",
    "    grade = \"A* Grade\"\n",
    "elif (percentage >= 80) and (percentage < 90):\n",
    "    grade = \"A Grade\"\n",
    "elif (percentage >= 70) and (percentage < 80):\n",
    "    grade = \"B Grade\"\n",
    "elif (percentage >= 60) and (percentage < 70):\n",
    "    grade = \"C Grade\"\n",
    "elif (percentage >= 50) and (percentage < 60):\n",
    "    grade = \"D Grade\"\n",
    "elif (percentage >= 40) and (percentage < 50):\n",
    "    grade = \"E Grade\"\n",
    "else:\n",
    "    grade = \"U Grade\"  # Grade U for anything below 40%\n",
    "\n",
    "print(f\"Dear Student, your percentage is {percentage} and your calculated grade is {grade}.\")\n"
   ]
  },
  {
   "cell_type": "markdown",
   "id": "c81091fe",
   "metadata": {},
   "source": [
    "# Student percentages and grade assignment"
   ]
  },
  {
   "cell_type": "code",
   "execution_count": 17,
   "id": "2d7f7cc2",
   "metadata": {},
   "outputs": [
    {
     "name": "stdout",
     "output_type": "stream",
     "text": [
      "[39, 40, 49, 55, 59.5, 60, 65, 73, 85, 95, 100]\n",
      "['U', 'E', 'E', 'D', 'D', 'C', 'C', 'B', 'A', 'A*', 'A*']\n"
     ]
    }
   ],
   "source": [
    "\n",
    "PerType = Union[float, int]  # Custom type for percentage (int or float)\n",
    "percentages: list[PerType] = [39, 40, 49, 55, 59.5, 60, 65, 73, 85, 95, 100]  # Sample percentage data\n",
    "\n",
    "grades: list[str] = []  # Empty list to store grades\n",
    "\n",
    "# Loop through percentages and assign grades based on the same logic\n",
    "for per in percentages:\n",
    "    s_grades: str = \"\"  # Temporary variable for storing grade\n",
    "    \n",
    "    # Determine grade based on percentage ranges\n",
    "    if (per >= 90) and (per <= 100):\n",
    "        s_grades = \"A*\"\n",
    "    elif (per >= 80) and (per < 90):\n",
    "        s_grades = \"A\"\n",
    "    elif (per >= 70) and (per < 80):\n",
    "        s_grades = \"B\"\n",
    "    elif (per >= 60) and (per < 70):\n",
    "        s_grades = \"C\"\n",
    "    elif (per >= 50) and (per < 60):\n",
    "        s_grades = \"D\"\n",
    "    elif (per >= 40) and (per < 50):\n",
    "        s_grades = \"E\"\n",
    "    else:\n",
    "        s_grades = \"U\"  # Below 40% gets a U grade\n",
    "\n",
    "    grades.append(s_grades)  # Append each grade to the list\n",
    "\n",
    "# Display the percentage and corresponding grades\n",
    "print(percentages)\n",
    "print(grades)\n"
   ]
  },
  {
   "cell_type": "markdown",
   "id": "e8374678",
   "metadata": {},
   "source": [
    "# Combining percentages and grades with zip"
   ]
  },
  {
   "cell_type": "code",
   "execution_count": 18,
   "id": "801153d1",
   "metadata": {},
   "outputs": [
    {
     "name": "stdout",
     "output_type": "stream",
     "text": [
      "[(39, 'U'), (40, 'E'), (49, 'E'), (55, 'D'), (59.5, 'D'), (60, 'C'), (65, 'C'), (73, 'B'), (85, 'A'), (95, 'A*'), (100, 'A*')]\n"
     ]
    }
   ],
   "source": [
    "\n",
    "# Use zip to combine percentages and grades into pairs\n",
    "print(list(zip(percentages, grades)))\n"
   ]
  },
  {
   "cell_type": "markdown",
   "id": "969273e5",
   "metadata": {},
   "source": [
    "# Assigning roll numbers and sorting the data"
   ]
  },
  {
   "cell_type": "code",
   "execution_count": 19,
   "id": "28d4a03a",
   "metadata": {},
   "outputs": [
    {
     "name": "stdout",
     "output_type": "stream",
     "text": [
      "[(0, 39, 'U'), (1, 40, 'E'), (2, 49, 'E'), (3, 55, 'D'), (4, 59.5, 'D'), (5, 60, 'C'), (6, 65, 'C'), (7, 73, 'B'), (8, 85, 'A'), (9, 95, 'A*'), (10, 100, 'A*')]\n",
      "[(10, 100, 'A*'), (9, 95, 'A*'), (8, 85, 'A'), (7, 73, 'B'), (6, 65, 'C'), (5, 60, 'C'), (4, 59.5, 'D'), (3, 55, 'D'), (2, 49, 'E'), (1, 40, 'E'), (0, 39, 'U')]\n"
     ]
    }
   ],
   "source": [
    "\n",
    "# Assign roll numbers to students (0 to len(percentages)-1)\n",
    "roll_no: list[int] = list(range(len(percentages)))\n",
    "\n",
    "# Display the roll number, percentage, and grade for each student\n",
    "print(list(zip(roll_no, percentages, grades)))\n",
    "\n",
    "# Combine roll numbers, percentages, and grades into a database (list of tuples)\n",
    "database = list(zip(roll_no, percentages, grades))\n",
    "\n",
    "# Sort the database by percentage in descending order\n",
    "print(sorted(database, key=lambda x: x[1], reverse=True))\n"
   ]
  },
  {
   "cell_type": "markdown",
   "id": "f0cfe8b2",
   "metadata": {},
   "source": [
    "# Car list example with conditional logic"
   ]
  },
  {
   "cell_type": "code",
   "execution_count": 20,
   "id": "a91173a4",
   "metadata": {},
   "outputs": [
    {
     "name": "stdout",
     "output_type": "stream",
     "text": [
      "Audi\n",
      "BMW\n",
      "Subaru\n",
      "Toyota\n"
     ]
    }
   ],
   "source": [
    "\n",
    "cars: list[str] = [\"audi\", \"bmw\", \"subaru\", \"toyota\"]  # List of car names\n",
    "for car in cars:\n",
    "    if car == 'bmw':  # Check for specific condition\n",
    "        print(car.upper())  # Print 'bmw' in uppercase\n",
    "    else:\n",
    "        print(car.title())  # Print other car names with title case\n"
   ]
  },
  {
   "cell_type": "markdown",
   "id": "f019c335",
   "metadata": {},
   "source": [
    "# Checking membership in a list"
   ]
  },
  {
   "cell_type": "code",
   "execution_count": 21,
   "id": "b4d457e1",
   "metadata": {},
   "outputs": [
    {
     "name": "stdout",
     "output_type": "stream",
     "text": [
      "False\n"
     ]
    }
   ],
   "source": [
    "\n",
    "# Check if an item is in the list\n",
    "print('changan' in cars)  # Returns False since 'changan' is not in the list\n"
   ]
  },
  {
   "cell_type": "markdown",
   "id": "e14c73a7",
   "metadata": {},
   "source": [
    "# Banned users check example"
   ]
  },
  {
   "cell_type": "code",
   "execution_count": 22,
   "id": "918afc02",
   "metadata": {},
   "outputs": [
    {
     "name": "stdout",
     "output_type": "stream",
     "text": [
      "Marie, you can post a response if you wish.\n"
     ]
    }
   ],
   "source": [
    "\n",
    "banned_users: list[str] = ['andrew', 'carolina', 'david']  # List of banned users\n",
    "user: str = 'marie'\n",
    "\n",
    "# Check if user is not banned\n",
    "if user not in banned_users:\n",
    "    print(f\"{user.title()}, you can post a response if you wish.\")\n"
   ]
  },
  {
   "cell_type": "markdown",
   "id": "805ddec9",
   "metadata": {},
   "source": [
    "# Login system example"
   ]
  },
  {
   "cell_type": "code",
   "execution_count": 23,
   "id": "2c132aed",
   "metadata": {},
   "outputs": [
    {
     "name": "stdout",
     "output_type": "stream",
     "text": [
      "Invalid User ID or Password\n"
     ]
    }
   ],
   "source": [
    "\n",
    "user_name: str = input(\"Enter User ID: \")  # User input for ID\n",
    "user_password: str = input(\"Enter Password: \")  # User input for password\n",
    "\n",
    "# Check if credentials are correct\n",
    "if user_name == 'admin' and user_password == '7896':  # Fixed login credentials\n",
    "    print(\"Sent OTP\")\n",
    "    otp: str = input(\"Please Enter OTP: \")  # User input for OTP\n",
    "    if otp == '1234':  # Check if OTP matches\n",
    "        print(\"Login Success\")  # Successful login message\n",
    "else:\n",
    "    print(\"Invalid User ID or Password\")  # Error message for invalid login\n"
   ]
  }
 ],
 "metadata": {
  "kernelspec": {
   "display_name": "Python 3",
   "language": "python",
   "name": "python3"
  },
  "language_info": {
   "codemirror_mode": {
    "name": "ipython",
    "version": 3
   },
   "file_extension": ".py",
   "mimetype": "text/x-python",
   "name": "python",
   "nbconvert_exporter": "python",
   "pygments_lexer": "ipython3",
   "version": "3.12.2"
  }
 },
 "nbformat": 4,
 "nbformat_minor": 5
}
