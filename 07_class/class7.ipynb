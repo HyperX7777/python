{
 "cells": [
  {
   "cell_type": "markdown",
   "id": "6fbd6ffb",
   "metadata": {},
   "source": [
    "# Class 7 Examples: Lists, Dictionaries, and Operations"
   ]
  },
  {
   "cell_type": "markdown",
   "id": "835fb7c3",
   "metadata": {},
   "source": [
    "## List Example - Index"
   ]
  },
  {
   "cell_type": "code",
   "execution_count": null,
   "id": "26a67aa1",
   "metadata": {},
   "outputs": [],
   "source": [
    "\n",
    "from typing import Dict, Union, Optional\n",
    "import pprint\n",
    "\n",
    "# List - Index\n",
    "data1 : list[str] = [\"Muhammad Qasim\", \"Muhammad Junaid\", \"Zia Khan\"]\n"
   ]
  },
  {
   "cell_type": "markdown",
   "id": "a13a0cf9",
   "metadata": {},
   "source": [
    "## Dictionary Example"
   ]
  },
  {
   "cell_type": "code",
   "execution_count": null,
   "id": "6f9d7cff",
   "metadata": {},
   "outputs": [],
   "source": [
    "\n",
    "# Dictionary with key-value pairs\n",
    "data2 : Dict[str, str] = {\"Father Name\" : \"Abdullah Sheikh\",\n",
    "                          \"Name\" : \"Abubakr Sheikh\",\n",
    "                          \"Education\" : \"College\"}\n",
    "\n",
    "pprint.pprint(data2[\"Name\"])  # Return value based on key\n"
   ]
  },
  {
   "cell_type": "markdown",
   "id": "007bee4a",
   "metadata": {},
   "source": [
    "## Dictionary Example with Multiple Data Types"
   ]
  },
  {
   "cell_type": "code",
   "execution_count": null,
   "id": "6b3c9782",
   "metadata": {},
   "outputs": [],
   "source": [
    "\n",
    "# Dictionary with custom key-value data types\n",
    "Key = Union[int, str]\n",
    "Value = Union[int, str, list, dict, tuple, set]\n",
    "\n",
    "data3 : Dict[Key, Value] = {1 : \"Games\",\n",
    "                            2 : \"Music\",\n",
    "                            3 : \"Study\"}\n",
    "\n",
    "pprint.pprint(data3[1])  # Return value based on key\n"
   ]
  },
  {
   "cell_type": "markdown",
   "id": "148b57d9",
   "metadata": {},
   "source": [
    "## Using `get()` Method to Avoid Errors"
   ]
  },
  {
   "cell_type": "code",
   "execution_count": null,
   "id": "1f14cbf0",
   "metadata": {},
   "outputs": [],
   "source": [
    "\n",
    "# Get method to check if key exists, prevents errors\n",
    "print(data3.get(4, 'NA'))  # Returns 'NA' if key 4 is not found\n",
    "print(data3.get(1))  # Returns value if key exists\n"
   ]
  },
  {
   "cell_type": "markdown",
   "id": "9652634e",
   "metadata": {},
   "source": [
    "## Adding and Updating Dictionary Entries"
   ]
  },
  {
   "cell_type": "code",
   "execution_count": null,
   "id": "f2afa343",
   "metadata": {},
   "outputs": [],
   "source": [
    "\n",
    "# Adding and updating values in dictionary\n",
    "data4 : Dict[Key, Value] = {}  # Empty Dictionary\n",
    "\n",
    "# Adding values\n",
    "data4[1] = \"Sleeping\"\n",
    "data4[2] = \"Coding\"\n",
    "data4[3] = \"Eating\"\n",
    "\n",
    "pprint.pprint(data4)\n",
    "\n",
    "# Updating value of an existing key\n",
    "data4[1] = 'Gaming'  # Updates value for key 1\n",
    "\n",
    "pprint.pprint(data4)\n"
   ]
  },
  {
   "cell_type": "markdown",
   "id": "84eecba6",
   "metadata": {},
   "source": [
    "## Printing All Keys, Values, and Items in a Dictionary"
   ]
  },
  {
   "cell_type": "code",
   "execution_count": null,
   "id": "bb3c9416",
   "metadata": {},
   "outputs": [],
   "source": [
    "\n",
    "# Print all keys\n",
    "for d in data4.keys():\n",
    "    print(d)\n",
    "\n",
    "# Print all values\n",
    "for v in data4.values():\n",
    "    print(v)\n",
    "\n",
    "# Print all key-value pairs (items)\n",
    "for k, v in data4.items():\n",
    "    print(k, v)\n"
   ]
  },
  {
   "cell_type": "markdown",
   "id": "bf5b1f9f",
   "metadata": {},
   "source": [
    "## Swapping Variables in Python"
   ]
  },
  {
   "cell_type": "code",
   "execution_count": null,
   "id": "43562b45",
   "metadata": {},
   "outputs": [],
   "source": [
    "\n",
    "# Swap two variables\n",
    "a : int = 7\n",
    "b : int = 10\n",
    "\n",
    "a, b = b, a  # Swapping values of a and b\n",
    "\n",
    "print(a, b)  # Now a is 10 and b is 7\n"
   ]
  },
  {
   "cell_type": "markdown",
   "id": "410ff952",
   "metadata": {},
   "source": [
    "## Using `fromkeys()` to Automatically Add Keys to a Dictionary"
   ]
  },
  {
   "cell_type": "code",
   "execution_count": null,
   "id": "a44a0655",
   "metadata": {},
   "outputs": [],
   "source": [
    "\n",
    "# Automatically add keys to a dictionary using fromkeys()\n",
    "\n",
    "keys: list[str] = ['id', 'name', 'fname', 'course']\n",
    "data5: dict[Key, Value] = {}\n",
    "\n",
    "# Create a new dictionary with specified keys, default values will be None\n",
    "print(data5.fromkeys(keys))\n"
   ]
  }
 ],
 "metadata": {},
 "nbformat": 4,
 "nbformat_minor": 5
}
