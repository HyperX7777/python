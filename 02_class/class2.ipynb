{
 "cells": [
  {
   "cell_type": "markdown",
   "metadata": {},
   "source": [
    "String data type in python\n",
    "\n",
    "Boundaries for writing string in python: 'string', \"string\", '''string''' & \"\"\"string\"\"\""
   ]
  },
  {
   "cell_type": "code",
   "execution_count": 18,
   "metadata": {},
   "outputs": [],
   "source": [
    "name: str = 'Muhammad Qasim'\n",
    "fname: str = \"Muhammad Aslam\"\n",
    "education: str = '''Master in Computer Science'''\n",
    "age: str = \"\"\"27\"\"\""
   ]
  },
  {
   "cell_type": "markdown",
   "metadata": {},
   "source": [
    "If we want to use a single quote in some text we have to use double quote to make it string\n",
    "It's the opposite for using double quotes in the text"
   ]
  },
  {
   "cell_type": "code",
   "execution_count": 19,
   "metadata": {},
   "outputs": [],
   "source": [
    "card_info1: str = \"Student Card \\n Father's name\"\n",
    "card_info2: str = '\"Student Card\" \\n Student name'"
   ]
  },
  {
   "cell_type": "markdown",
   "metadata": {},
   "source": [
    "Convert any special character into simple character by placing \\ before character"
   ]
  },
  {
   "cell_type": "code",
   "execution_count": 20,
   "metadata": {},
   "outputs": [],
   "source": [
    "card_info3: str = 'Student Card \\n Father\\'s name'"
   ]
  },
  {
   "cell_type": "markdown",
   "metadata": {},
   "source": [
    "Student Card"
   ]
  },
  {
   "cell_type": "code",
   "execution_count": 21,
   "metadata": {},
   "outputs": [],
   "source": [
    "name1: str = \"Furqan Ahmed\"\n",
    "fname1: str = \"Moshin Mughal\"\n",
    "education1: str = \"Bachelor in Computer Science\"\n",
    "age1: int = 19"
   ]
  },
  {
   "cell_type": "code",
   "execution_count": 22,
   "metadata": {},
   "outputs": [
    {
     "name": "stdout",
     "output_type": "stream",
     "text": [
      "Student Card\n",
      "Name: Furqan Ahmed\n",
      "Father's Name: Moshin Mughal\n"
     ]
    }
   ],
   "source": [
    "# Concatenation using + and \\n used to bring text to the next line\n",
    "\n",
    "card_info4: str = \"Student Card\\nName: \" + name1 + \"\\nFather's Name: \" + fname1\n",
    "\n",
    "print(card_info4)"
   ]
  },
  {
   "cell_type": "markdown",
   "metadata": {},
   "source": [
    "String and Number cannot be concatenated so we have to make them of the same type to concatenate. We are using a function str() to make the value of age1 go through the function and convert it into string."
   ]
  },
  {
   "cell_type": "code",
   "execution_count": 23,
   "metadata": {},
   "outputs": [
    {
     "name": "stdout",
     "output_type": "stream",
     "text": [
      "Student Card\n",
      "Name: Furqan Ahmed\n",
      "Age: 19\n",
      "70\n"
     ]
    }
   ],
   "source": [
    "card_info5: str = \"Student Card\\nName: \" + name1 + \"\\nAge: \" + str(age1)\n",
    "\n",
    "print(card_info5)\n",
    "\n",
    "# Continue Line using \"\\\"\n",
    "\n",
    "print(5 + 15\\\n",
    "      + 20\\\n",
    "      + 30)"
   ]
  },
  {
   "cell_type": "markdown",
   "metadata": {},
   "source": [
    "Define multiline string using: \"\"\" \"\"\" or ''' ''' & Adding variables using f-string. It also helps use variable without type casting (converting age into string)"
   ]
  },
  {
   "cell_type": "code",
   "execution_count": 24,
   "metadata": {},
   "outputs": [
    {
     "name": "stdout",
     "output_type": "stream",
     "text": [
      "\n",
      "Student Card\n",
      "Name: Muhammad Qasim\n",
      "Father's name: Muhammad Aslam\n",
      "Age: 27\n",
      "Education: Master in Computer Science\n",
      "\n"
     ]
    }
   ],
   "source": [
    "card_info6: str = f\"\"\"\n",
    "Student Card\n",
    "Name: {name}\n",
    "Father's name: {fname}\n",
    "Age: {age}\n",
    "Education: {education}\n",
    "\"\"\"\n",
    "\n",
    "print(card_info6)"
   ]
  },
  {
   "cell_type": "markdown",
   "metadata": {},
   "source": [
    "Define Place holder and then do concatenation"
   ]
  },
  {
   "cell_type": "code",
   "execution_count": 25,
   "metadata": {},
   "outputs": [
    {
     "name": "stdout",
     "output_type": "stream",
     "text": [
      "\n",
      "Student Card\n",
      "Name: Furqan Ahmed\n",
      "Father's name: Moshin Mughal\n",
      "Age: 19\n",
      "Education: Bachelor in Computer Science\n",
      "\n"
     ]
    }
   ],
   "source": [
    "card_info7: str = f\"\"\"\n",
    "Student Card\n",
    "Name: %s\n",
    "Father's name: %s\n",
    "Age: %d\n",
    "Education: %s\n",
    "\"\"\" % (name1, fname1, age1, education1)\n",
    "\n",
    "print(card_info7)"
   ]
  },
  {
   "cell_type": "markdown",
   "metadata": {},
   "source": [
    "Using variable methods"
   ]
  },
  {
   "cell_type": "code",
   "execution_count": 26,
   "metadata": {},
   "outputs": [
    {
     "name": "stdout",
     "output_type": "stream",
     "text": [
      "John Doe\n"
     ]
    }
   ],
   "source": [
    "name3: str = \"JOhn dOE\"\n",
    "\n",
    "print(name3.title())"
   ]
  }
 ],
 "metadata": {
  "kernelspec": {
   "display_name": "Python 3",
   "language": "python",
   "name": "python3"
  },
  "language_info": {
   "codemirror_mode": {
    "name": "ipython",
    "version": 3
   },
   "file_extension": ".py",
   "mimetype": "text/x-python",
   "name": "python",
   "nbconvert_exporter": "python",
   "pygments_lexer": "ipython3",
   "version": "3.12.2"
  }
 },
 "nbformat": 4,
 "nbformat_minor": 2
}
