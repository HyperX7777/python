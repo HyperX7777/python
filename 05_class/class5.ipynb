{
 "cells": [
  {
   "cell_type": "code",
   "execution_count": 1,
   "id": "61fc35c5",
   "metadata": {},
   "outputs": [
    {
     "name": "stdout",
     "output_type": "stream",
     "text": [
      "Sir Zia\n",
      "Sir Qasim\n",
      "Sir Ameen\n",
      "Sir Junaid\n"
     ]
    }
   ],
   "source": [
    "\n",
    "# List Operations\n",
    "# Iterating over a list using different types of loops and applying operations on elements.\n",
    "\n",
    "# While Loop\n",
    "names1: list[str] = ['Sir Zia', 'Sir Qasim', 'Sir Ameen', 'Sir Junaid']\n",
    "\n",
    "i: int = 0  # Initialize counter = 0\n",
    "\n",
    "# Loop through 'names1' using a while loop\n",
    "while i < len(names1):  # Loop until i is less than the length of the list\n",
    "    print(names1[i])  # Print the current name\n",
    "    i += 1  # Increment counter\n"
   ]
  },
  {
   "cell_type": "code",
   "execution_count": 2,
   "id": "95e10345",
   "metadata": {},
   "outputs": [
    {
     "name": "stdout",
     "output_type": "stream",
     "text": [
      "Sir Zia\n",
      "Sir Qasim\n",
      "Sir Ameen\n"
     ]
    }
   ],
   "source": [
    "\n",
    "# For Loop\n",
    "names2: list[str] = ['Sir Zia', 'Sir Qasim', 'Sir Ameen']\n",
    "\n",
    "# Loop through 'names2' using a for loop\n",
    "for name1 in names2:\n",
    "    print(name1)  # Print each name\n"
   ]
  },
  {
   "cell_type": "code",
   "execution_count": 3,
   "id": "79ce74cb",
   "metadata": {},
   "outputs": [
    {
     "name": "stdout",
     "output_type": "stream",
     "text": [
      "[(0, 'Sir Zia'), (1, 'Sir Qasim'), (2, 'Sir Ameen')]\n"
     ]
    }
   ],
   "source": [
    "\n",
    "# Using the Enumerate Function\n",
    "# 'enumerate()' allows you to loop over a list and keep track of the index\n",
    "print(list(enumerate(names2)))  # Prints list of tuples (index, value)\n"
   ]
  },
  {
   "cell_type": "code",
   "execution_count": 4,
   "id": "c8a303a4",
   "metadata": {},
   "outputs": [
    {
     "name": "stdout",
     "output_type": "stream",
     "text": [
      "PIAIC Gen AI Team:\n",
      "Welcome Sir Zia\n",
      "Welcome Sir Qasim\n",
      "Welcome Sir Ameen\n"
     ]
    }
   ],
   "source": [
    "\n",
    "# For Loop with a Welcome Message and List Method\n",
    "names3: list[str] = ['Sir Zia', 'Sir Qasim', 'Sir Ameen', 'Extras']\n",
    "\n",
    "print(\"PIAIC Gen AI Team:\")\n",
    "\n",
    "# Loop through the first three names in 'names3' using list slicing\n",
    "for name2 in names3[:3]:  # Accessing only the first 3 elements\n",
    "    print(f'Welcome {name2.title()}')  # Welcoming each name with title case\n"
   ]
  },
  {
   "cell_type": "code",
   "execution_count": 5,
   "id": "0d69270d",
   "metadata": {},
   "outputs": [
    {
     "name": "stdout",
     "output_type": "stream",
     "text": [
      "Valid User\n"
     ]
    }
   ],
   "source": [
    "\n",
    "# Authentication Check Using a For Loop\n",
    "\n",
    "# A list of tuples representing username and password\n",
    "data_base: list[tuple[str, str]] = [\n",
    "    (\"HyperX\", '7777'),\n",
    "    (\"Razer\", '1234'),\n",
    "    (\"Logitech\", '9999')\n",
    "]\n",
    "\n",
    "# Taking user input for username and password\n",
    "input_user: str = input(\"Enter username: \")\n",
    "input_password: str = input(\"Enter password: \")\n",
    "\n",
    "# Checking if the entered credentials match any in the database\n",
    "for row in data_base:\n",
    "    user, password = row  # Unpacking tuple into 'user' and 'password'\n",
    "    if input_user == user and input_password == password:\n",
    "        print(\"Valid User\")  # If credentials match, print valid user\n",
    "        break  # Exit the loop once a match is found\n",
    "else:\n",
    "    print(\"Invalid User\")  # If no match is found, print invalid user\n"
   ]
  },
  {
   "cell_type": "code",
   "execution_count": 6,
   "id": "53492e82",
   "metadata": {},
   "outputs": [
    {
     "name": "stdout",
     "output_type": "stream",
     "text": [
      "[2, 4, 6, 8, 10, 12, 14, 16, 18, 20]\n"
     ]
    }
   ],
   "source": [
    "\n",
    "# Working with Numbers in Loops\n",
    "\n",
    "# Print even numbers from 2 to 20 using range with step\n",
    "print(list(range(2, 21, 2)))  # Creates a list of even numbers\n"
   ]
  },
  {
   "cell_type": "code",
   "execution_count": 7,
   "id": "5ed7ca85",
   "metadata": {},
   "outputs": [
    {
     "name": "stdout",
     "output_type": "stream",
     "text": [
      "2 X 1 = 2\n",
      "2 X 2 = 4\n",
      "2 X 3 = 6\n",
      "2 X 4 = 8\n",
      "2 X 5 = 10\n",
      "2 X 6 = 12\n",
      "2 X 7 = 14\n",
      "2 X 8 = 16\n",
      "2 X 9 = 18\n",
      "2 X 10 = 20\n"
     ]
    }
   ],
   "source": [
    "\n",
    "# Printing a multiplication table for 2\n",
    "for n in range(1, 11):\n",
    "    print(f\"{2} X {n} = {n * 2}\")  # Prints 2 multiplied by numbers from 1 to 10\n"
   ]
  },
  {
   "cell_type": "code",
   "execution_count": 8,
   "id": "1d39aff3",
   "metadata": {},
   "outputs": [
    {
     "name": "stdout",
     "output_type": "stream",
     "text": [
      "[1, 4, 9, 16, 25, 36, 49, 64, 81, 100]\n"
     ]
    }
   ],
   "source": [
    "\n",
    "# Calculating Squares of Values\n",
    "\n",
    "squares: list[int] = []  # Create an empty list to store squares\n",
    "\n",
    "# Loop through numbers from 1 to 10 and append their squares to the list\n",
    "for value in range(1, 11):\n",
    "    square = value ** 2  # Calculate the square of the current value\n",
    "    squares.append(square)  # Add the square to the 'squares' list\n",
    "print(squares)  # Print the list of squares\n"
   ]
  },
  {
   "cell_type": "code",
   "execution_count": 9,
   "id": "602ae6e2",
   "metadata": {},
   "outputs": [
    {
     "name": "stdout",
     "output_type": "stream",
     "text": [
      "[1, 4, 9, 16, 25, 36, 49, 64, 81, 100]\n"
     ]
    }
   ],
   "source": [
    "\n",
    "# List Comprehension Example\n",
    "\n",
    "# A more concise way to generate the list of squares using list comprehension\n",
    "print([i**2 for i in range(1, 11)])  # Prints squares of numbers from 1 to 10\n"
   ]
  },
  {
   "cell_type": "code",
   "execution_count": 10,
   "id": "3eb7a969",
   "metadata": {},
   "outputs": [
    {
     "name": "stdout",
     "output_type": "stream",
     "text": [
      "Name: PIAIC Student, Score: 100\n"
     ]
    }
   ],
   "source": [
    "\n",
    "# Tuple Example and Definition\n",
    "\n",
    "# A tuple is a collection which is ordered and immutable (cannot be changed).\n",
    "# Tuples are defined by using parentheses () and can hold elements of different types.\n",
    "\n",
    "# Example of a tuple:\n",
    "my_tuple: tuple[str, int] = (\"PIAIC Student\", 100)\n",
    "\n",
    "# Accessing elements in a tuple\n",
    "name, score = my_tuple  # Unpacking the tuple into variables\n",
    "print(f\"Name: {name}, Score: {score}\")  # Output the values\n",
    "\n",
    "# Tuples can also be used in lists, as seen earlier in the database example.\n",
    "# They are useful when you want to store a collection of related data that shouldn't change.\n"
   ]
  }
 ],
 "metadata": {
  "kernelspec": {
   "display_name": "Python 3",
   "language": "python",
   "name": "python3"
  },
  "language_info": {
   "codemirror_mode": {
    "name": "ipython",
    "version": 3
   },
   "file_extension": ".py",
   "mimetype": "text/x-python",
   "name": "python",
   "nbconvert_exporter": "python",
   "pygments_lexer": "ipython3",
   "version": "3.12.2"
  }
 },
 "nbformat": 4,
 "nbformat_minor": 5
}
