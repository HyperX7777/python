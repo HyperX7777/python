{
 "cells": [
  {
   "cell_type": "markdown",
   "id": "cd46db28",
   "metadata": {},
   "source": [
    "# How to get help in Python.\n",
    "\n",
    "* `help(object)`\n",
    "* `object?`\n",
    "* `object??`\n",
    "* `?object`\n",
    "* `??object`"
   ]
  },
  {
   "cell_type": "markdown",
   "id": "096c6980",
   "metadata": {},
   "source": [
    "## Initializing Lists\n",
    "\n",
    "Benefits of Lists:\n",
    "* Dynamic Length\n",
    "* Heterogeneous data types (Multiple types)\n",
    "\n",
    "Index:\n",
    "* Positive: 1 to maximum length\n",
    "* Negative: -1 to maximum - (minus) length"
   ]
  },
  {
   "cell_type": "code",
   "execution_count": 5,
   "id": "b3b19632",
   "metadata": {},
   "outputs": [],
   "source": [
    "names = [\"Qasim\", \"Junaid\", \"Zia\"]"
   ]
  },
  {
   "cell_type": "markdown",
   "id": "014d1c5d",
   "metadata": {},
   "source": [
    "### Positive Indexing"
   ]
  },
  {
   "cell_type": "code",
   "execution_count": 6,
   "id": "443a98f0",
   "metadata": {},
   "outputs": [
    {
     "name": "stdout",
     "output_type": "stream",
     "text": [
      "Qasim\n"
     ]
    }
   ],
   "source": [
    "names1 = [\"Qasim\", \"Junaid\", \"Zia\"]\n",
    "# 0 1 2\n",
    "print(names1[0])"
   ]
  },
  {
   "cell_type": "markdown",
   "id": "249af0d9",
   "metadata": {},
   "source": [
    "### Negative Indexing"
   ]
  },
  {
   "cell_type": "code",
   "execution_count": 7,
   "id": "fc25fea7",
   "metadata": {},
   "outputs": [
    {
     "name": "stdout",
     "output_type": "stream",
     "text": [
      "Zia\n"
     ]
    }
   ],
   "source": [
    "names2 = [\"Qasim\", \"Junaid\", \"Zia\"]\n",
    "# -3 -2 -1\n",
    "print(names2[-1])"
   ]
  },
  {
   "cell_type": "markdown",
   "id": "d3ae4a35",
   "metadata": {},
   "source": [
    "### Type any"
   ]
  },
  {
   "cell_type": "code",
   "execution_count": 8,
   "id": "bb23406c",
   "metadata": {},
   "outputs": [
    {
     "name": "stdout",
     "output_type": "stream",
     "text": [
      "Founder of PIAIC: Sir Zia\n"
     ]
    }
   ],
   "source": [
    "from typing import Any\n",
    "\n",
    "names3: list[Any] = [\"Sir Qasim\", \"Sir Zia\", \"Sir Junaid\"]\n",
    "print(f'Founder of PIAIC: {names3[-2]}')"
   ]
  },
  {
   "cell_type": "markdown",
   "id": "f21feffd",
   "metadata": {},
   "source": [
    "## Slicing:\n",
    "\n",
    "Start : int = include\n",
    "End : int = n-1 (Meaning minus from last number)\n",
    "Step : int = sequence"
   ]
  },
  {
   "cell_type": "code",
   "execution_count": 9,
   "id": "fc1c9632",
   "metadata": {},
   "outputs": [
    {
     "name": "stdout",
     "output_type": "stream",
     "text": [
      "['A', 'B', 'C', 'D', 'E', 'F', 'G', 'H', 'I', 'J', 'K', 'L', 'M', 'N', 'O', 'P', 'Q', 'R', 'S', 'T', 'U', 'V', 'W', 'X', 'Y', 'Z']\n"
     ]
    }
   ],
   "source": [
    "characters: list[str] = list(\"ABCDEFGHIJKLMNOPQRSTUVWXYZ\")\n",
    "print(characters)"
   ]
  },
  {
   "cell_type": "code",
   "execution_count": 10,
   "id": "5a444b86",
   "metadata": {},
   "outputs": [],
   "source": [
    "characters1: list[str] = [\"A\", \"B\", \"C\", \"D\", \"E\", \"F\", \"G\", \"H\", \"I\", \"J\", \"K\", \"L\", \"M\", \"N\", \"O\", \"P\", \"Q\", \"R\", \"S\", \"T\", \"U\", \"V\", \"W\", \"X\", \"Y\", \"Z\"]"
   ]
  },
  {
   "cell_type": "markdown",
   "id": "f465ba36",
   "metadata": {},
   "source": [
    "### Start"
   ]
  },
  {
   "cell_type": "code",
   "execution_count": 11,
   "id": "592d799a",
   "metadata": {},
   "outputs": [
    {
     "name": "stdout",
     "output_type": "stream",
     "text": [
      "['A', 'B']\n",
      "['A', 'B']\n"
     ]
    }
   ],
   "source": [
    "print(characters1[0:2])\n",
    "print(characters1[:2])"
   ]
  },
  {
   "cell_type": "markdown",
   "id": "e4a5171c",
   "metadata": {},
   "source": [
    "### End"
   ]
  },
  {
   "cell_type": "code",
   "execution_count": 12,
   "id": "de2cd4e0",
   "metadata": {},
   "outputs": [
    {
     "name": "stdout",
     "output_type": "stream",
     "text": [
      "['A', 'B', 'C']\n"
     ]
    }
   ],
   "source": [
    "print(characters1[-26:-23])"
   ]
  },
  {
   "cell_type": "markdown",
   "id": "34b73547",
   "metadata": {},
   "source": [
    "### Step (Sequence)"
   ]
  },
  {
   "cell_type": "code",
   "execution_count": 13,
   "id": "04495a57",
   "metadata": {},
   "outputs": [
    {
     "name": "stdout",
     "output_type": "stream",
     "text": [
      "['A', 'B', 'C', 'D']\n",
      "['A', 'B', 'C', 'D', 'E', 'F', 'G', 'H', 'I', 'J', 'K', 'L']\n"
     ]
    }
   ],
   "source": [
    "print(characters1[0:4:1])\n",
    "print(characters1[-26:-14:1])"
   ]
  },
  {
   "cell_type": "markdown",
   "id": "fc0a3be7",
   "metadata": {},
   "source": [
    "## Mutability"
   ]
  },
  {
   "cell_type": "code",
   "execution_count": 14,
   "id": "150c739d",
   "metadata": {},
   "outputs": [
    {
     "name": "stdout",
     "output_type": "stream",
     "text": [
      "['Sir Qasim', 'Sir Zia', 'Sir Junaid', 'Extra 1', 'Extra 2']\n"
     ]
    }
   ],
   "source": [
    "names4: list[Any] = [\"Qasim\", \"Sir Zia\", \"Sir Junaid\", \"Extra 1\", \"Extra 2\"]\n",
    "names4[0] = \"Sir Qasim\"\n",
    "print(names4)"
   ]
  },
  {
   "cell_type": "markdown",
   "id": "0c29c6f9",
   "metadata": {},
   "source": [
    "### Deleting using del (Method 1)"
   ]
  },
  {
   "cell_type": "code",
   "execution_count": 15,
   "id": "f1b778ab",
   "metadata": {},
   "outputs": [
    {
     "name": "stdout",
     "output_type": "stream",
     "text": [
      "['Sir Qasim', 'Sir Zia', 'Sir Junaid', 'Extra 1']\n"
     ]
    }
   ],
   "source": [
    "del names4[4]\n",
    "print(names4)"
   ]
  },
  {
   "cell_type": "markdown",
   "id": "b1dcf5ff",
   "metadata": {},
   "source": [
    "## List Methods"
   ]
  },
  {
   "cell_type": "code",
   "execution_count": 16,
   "id": "b1b773b9",
   "metadata": {},
   "outputs": [
    {
     "name": "stdout",
     "output_type": "stream",
     "text": [
      "['append', 'clear', 'copy', 'count', 'extend', 'index', 'insert', 'pop', 'remove', 'reverse', 'sort']\n"
     ]
    }
   ],
   "source": [
    "listmethods = [i for i in dir(list) if '__' not in i]\n",
    "print(listmethods)"
   ]
  },
  {
   "cell_type": "markdown",
   "id": "87b34ecf",
   "metadata": {},
   "source": [
    "### Deleting using pop method (Method 2)"
   ]
  },
  {
   "cell_type": "code",
   "execution_count": 17,
   "id": "0d39fa2c",
   "metadata": {},
   "outputs": [
    {
     "name": "stdout",
     "output_type": "stream",
     "text": [
      "['Sir Qasim', 'Sir Zia', 'Sir Junaid']\n",
      "Extra 1\n"
     ]
    }
   ],
   "source": [
    "rvaluecheck : str = names4.pop()\n",
    "print(names4)\n",
    "print(rvaluecheck)"
   ]
  },
  {
   "cell_type": "markdown",
   "id": "bb9f3288",
   "metadata": {},
   "source": [
    "### Adding using append method"
   ]
  },
  {
   "cell_type": "code",
   "execution_count": 18,
   "id": "3b3a1317",
   "metadata": {},
   "outputs": [
    {
     "name": "stdout",
     "output_type": "stream",
     "text": [
      "['Sir Ameen Alam', 'Sir Qasim', 'Sir Junaid', 'Sir Zia']\n"
     ]
    }
   ],
   "source": [
    "names5: list[Any] = [\"Sir Ameen Alam\"]\n",
    "names5.append(\"Sir Qasim\")\n",
    "names5.append(\"Sir Junaid\")\n",
    "names5.append(\"Sir Zia\")\n",
    "print(names5)"
   ]
  },
  {
   "cell_type": "markdown",
   "id": "105eb410",
   "metadata": {},
   "source": [
    "### Adding using insert method"
   ]
  },
  {
   "cell_type": "code",
   "execution_count": 19,
   "id": "dd2843ad",
   "metadata": {},
   "outputs": [
    {
     "name": "stdout",
     "output_type": "stream",
     "text": [
      "['Sir Qasim', 'Sir Hassan', 'Sir Junaid', 'Sir Zia']\n"
     ]
    }
   ],
   "source": [
    "names6: list[Any] = [\"Sir Qasim\", \"Sir Junaid\", \"Sir Zia\"]\n",
    "names6.insert(1, \"Sir Hassan\")\n",
    "print(names6)"
   ]
  },
  {
   "cell_type": "markdown",
   "id": "fa550255",
   "metadata": {},
   "source": [
    "### Remove value but keep the object"
   ]
  },
  {
   "cell_type": "code",
   "execution_count": 20,
   "id": "46b244b5",
   "metadata": {},
   "outputs": [
    {
     "name": "stdout",
     "output_type": "stream",
     "text": [
      "[]\n"
     ]
    }
   ],
   "source": [
    "names7: list[Any] = [\"Sir Qasim\", \"Sir Junaid\", \"Sir Zia\"]\n",
    "names7.clear()\n",
    "print(names7)"
   ]
  },
  {
   "cell_type": "markdown",
   "id": "0158ad9a",
   "metadata": {},
   "source": [
    "### Count elements"
   ]
  },
  {
   "cell_type": "code",
   "execution_count": 21,
   "id": "1ec74c49",
   "metadata": {},
   "outputs": [
    {
     "name": "stdout",
     "output_type": "stream",
     "text": [
      "3\n",
      "4\n"
     ]
    }
   ],
   "source": [
    "data : list[str] = [\"a\", \"a\", \"a\", \"b\", \"c\", \"c\", \"c\", \"c\"]\n",
    "print(data.count(\"a\"))\n",
    "print(data.count(\"c\"))"
   ]
  },
  {
   "cell_type": "markdown",
   "id": "e36415f1",
   "metadata": {},
   "source": [
    "### Appending list (Problem: Adding whole list in list not elements in list)"
   ]
  },
  {
   "cell_type": "code",
   "execution_count": 22,
   "id": "eb6eff4c",
   "metadata": {},
   "outputs": [
    {
     "name": "stdout",
     "output_type": "stream",
     "text": [
      "['Sir Qasim', 'Sir Ameen Alam', 'Sir Zia', ['Sir Junaid', 'Sir Hassan']]\n"
     ]
    }
   ],
   "source": [
    "founding_members: list[Any] = [\"Sir Qasim\", \"Sir Ameen Alam\", \"Sir Zia\"]\n",
    "new_members: list[Any] = [\"Sir Junaid\", \"Sir Hassan\"]\n",
    "founding_members.append(new_members)\n",
    "print(founding_members)"
   ]
  },
  {
   "cell_type": "markdown",
   "id": "b038cd0a",
   "metadata": {},
   "source": [
    "### Extend (Adds elements one by one and solves the problem)"
   ]
  },
  {
   "cell_type": "code",
   "execution_count": 23,
   "id": "28b3dc7b",
   "metadata": {},
   "outputs": [
    {
     "name": "stdout",
     "output_type": "stream",
     "text": [
      "['Sir Qasim', 'Sir Ameen Alam', 'Sir Zia', 'Sir Junaid', 'Sir Hassan']\n"
     ]
    }
   ],
   "source": [
    "founding_members1: list[Any] = [\"Sir Qasim\", \"Sir Ameen Alam\", \"Sir Zia\"]\n",
    "new_members1: list[Any] = [\"Sir Junaid\", \"Sir Hassan\"]\n",
    "founding_members1.extend(new_members1)\n",
    "print(founding_members1)"
   ]
  },
  {
   "cell_type": "markdown",
   "id": "c8352c69",
   "metadata": {},
   "source": [
    "### Remove using value"
   ]
  },
  {
   "cell_type": "code",
   "execution_count": 24,
   "id": "2aeabc6d",
   "metadata": {},
   "outputs": [
    {
     "name": "stdout",
     "output_type": "stream",
     "text": [
      "['Sir Qasim', 'Sir Ameen Alam']\n"
     ]
    }
   ],
   "source": [
    "names8: list[str] = [\"Sir Qasim\", \"Sir Ameen Alam\", \"Sir Zia\"]\n",
    "names8.remove(\"Sir Zia\")\n",
    "print(names8)"
   ]
  },
  {
   "cell_type": "markdown",
   "id": "c1d7c5e7",
   "metadata": {},
   "source": [
    "### Check Index number"
   ]
  },
  {
   "cell_type": "code",
   "execution_count": 25,
   "id": "937b12c2",
   "metadata": {},
   "outputs": [
    {
     "name": "stdout",
     "output_type": "stream",
     "text": [
      "1\n"
     ]
    }
   ],
   "source": [
    "names9: list[str] = [\"Sir Qasim\", \"Sir Ameen Alam\", \"Sir Zia\"]\n",
    "print(names9.index(\"Sir Ameen Alam\"))"
   ]
  },
  {
   "cell_type": "markdown",
   "id": "7dd3d979",
   "metadata": {},
   "source": [
    "### Reverse Method (Changes real data in memory)"
   ]
  },
  {
   "cell_type": "code",
   "execution_count": 26,
   "id": "9d8e079e",
   "metadata": {},
   "outputs": [
    {
     "name": "stdout",
     "output_type": "stream",
     "text": [
      "['Sir Qasim', 'Sir Ameen Alam', 'Sir Zia', 'Sir Junaid']\n",
      "['Sir Junaid', 'Sir Zia', 'Sir Ameen Alam', 'Sir Qasim']\n"
     ]
    }
   ],
   "source": [
    "names10: list[str] = [\"Sir Qasim\", \"Sir Ameen Alam\", \"Sir Zia\", \"Sir Junaid\"]\n",
    "print(names10)\n",
    "names10.reverse()\n",
    "print(names10)"
   ]
  },
  {
   "cell_type": "markdown",
   "id": "4c228bc3",
   "metadata": {},
   "source": [
    "### Sort Method (Sorting in ascending order)"
   ]
  },
  {
   "cell_type": "code",
   "execution_count": 27,
   "id": "1de8d415",
   "metadata": {},
   "outputs": [
    {
     "name": "stdout",
     "output_type": "stream",
     "text": [
      "['Sir Qasim', 'Sir Ameen Alam', 'Sir Zia', 'Sir Junaid']\n",
      "['Sir Ameen Alam', 'Sir Junaid', 'Sir Qasim', 'Sir Zia']\n"
     ]
    }
   ],
   "source": [
    "names11: list[str] = [\"Sir Qasim\", \"Sir Ameen Alam\", \"Sir Zia\", \"Sir Junaid\"]\n",
    "print(names11)\n",
    "names11.sort()\n",
    "print(names11)"
   ]
  },
  {
   "cell_type": "markdown",
   "id": "d595cd3f",
   "metadata": {},
   "source": [
    "### Sort Method (Sorting in descending order)"
   ]
  },
  {
   "cell_type": "code",
   "execution_count": 28,
   "id": "94cd7aeb",
   "metadata": {},
   "outputs": [
    {
     "name": "stdout",
     "output_type": "stream",
     "text": [
      "['Sir Qasim', 'Sir Ameen Alam', 'Sir Zia', 'Sir Junaid']\n",
      "['Sir Zia', 'Sir Qasim', 'Sir Junaid', 'Sir Ameen Alam']\n"
     ]
    }
   ],
   "source": [
    "names12: list[str] = [\"Sir Qasim\", \"Sir Ameen Alam\", \"Sir Zia\", \"Sir Junaid\"]\n",
    "print(names12)\n",
    "names12.sort(reverse=True)\n",
    "print(names12)"
   ]
  }
 ],
 "metadata": {
  "kernelspec": {
   "display_name": "Python 3",
   "language": "python",
   "name": "python3"
  },
  "language_info": {
   "codemirror_mode": {
    "name": "ipython",
    "version": 3
   },
   "file_extension": ".py",
   "mimetype": "text/x-python",
   "name": "python",
   "nbconvert_exporter": "python",
   "pygments_lexer": "ipython3",
   "version": "3.12.2"
  }
 },
 "nbformat": 4,
 "nbformat_minor": 5
}
