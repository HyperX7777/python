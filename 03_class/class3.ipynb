{
 "cells": [
  {
   "cell_type": "markdown",
   "id": "56460425",
   "metadata": {},
   "source": [
    "# Arithmetic Operators and Other Python Operators"
   ]
  },
  {
   "cell_type": "code",
   "execution_count": 1,
   "id": "c18555b5",
   "metadata": {},
   "outputs": [
    {
     "name": "stdout",
     "output_type": "stream",
     "text": [
      "The sum of 7 and 3 is 10\n",
      "The difference when 3 is subtracted from 7 is 4\n",
      "The product of 7 and 3 is 21\n",
      "The quotient when 7 is divided by 3 is 2.3333333333333335\n",
      "The remainder when 7 is divided by 3 is 1\n",
      "7 raised to the power of 3 is 343\n",
      "The result of floor division of 7 by 3 is 2\n"
     ]
    }
   ],
   "source": [
    "# Initializing variables\n",
    "a: int = 7\n",
    "b: int = 3\n",
    "\n",
    "# Arithmetic Operators\n",
    "\n",
    "# Addition Arithmetic\n",
    "print(f\"The sum of {a} and {b} is {a + b}\")\n",
    "\n",
    "# Subtraction Arithmetic\n",
    "print(f\"The difference when {b} is subtracted from {a} is {a - b}\")\n",
    "\n",
    "# Multiplication Arithmetic\n",
    "print(f\"The product of {a} and {b} is {a * b}\")\n",
    "\n",
    "# Division Arithmetic\n",
    "print(f\"The quotient when {a} is divided by {b} is {a / b}\")\n",
    "\n",
    "# Modulus Arithmetic\n",
    "print(f\"The remainder when {a} is divided by {b} is {a % b}\")\n",
    "\n",
    "# Exponentiation Arithmetic\n",
    "print(f\"{a} raised to the power of {b} is {a ** b}\")\n",
    "\n",
    "# Floor Division Arithmetic\n",
    "print(f\"The result of floor division of {a} by {b} is {a // b}\")"
   ]
  },
  {
   "cell_type": "code",
   "execution_count": 2,
   "id": "e49552e2",
   "metadata": {},
   "outputs": [
    {
     "name": "stdout",
     "output_type": "stream",
     "text": [
      "Standard Assignment: c = d results in c = 3\n",
      "Addition Assignment: c += d results in c = 18\n",
      "Subtraction Assignment: c -= d results in c = 12\n",
      "Multiplication Assignment: c *= d results in c = 45\n",
      "Division Assignment: c /= d results in c = 5\n",
      "Modulus Assignment: c %= d results in c = 0\n",
      "Floor Division Assignment: c //= d results in c = 5\n"
     ]
    }
   ],
   "source": [
    "# Initializing variables\n",
    "c: int = 15\n",
    "d: int = 3\n",
    "\n",
    "# Assignment Operators\n",
    "\n",
    "# Standard Assignment\n",
    "c = 15  # Reset value of c\n",
    "c = d\n",
    "print(f\"Standard Assignment: c = d results in c = {c}\")\n",
    "\n",
    "# Addition Assignment\n",
    "c = 15  # Reset value of c\n",
    "c += d\n",
    "print(f\"Addition Assignment: c += d results in c = {c}\")\n",
    "\n",
    "# Subtraction Assignment\n",
    "c = 15  # Reset value of c\n",
    "c -= d\n",
    "print(f\"Subtraction Assignment: c -= d results in c = {c}\")\n",
    "\n",
    "# Multiplication Assignment\n",
    "c = 15  # Reset value of c\n",
    "c *= d\n",
    "print(f\"Multiplication Assignment: c *= d results in c = {c}\")\n",
    "\n",
    "# Division Assignment\n",
    "c = 15  # Reset value of c\n",
    "c = int(c / d)  # Casting to int to maintain type consistency\n",
    "print(f\"Division Assignment: c /= d results in c = {c}\")\n",
    "\n",
    "# Modulus Assignment\n",
    "c = 15  # Reset value of c\n",
    "c %= d\n",
    "print(f\"Modulus Assignment: c %= d results in c = {c}\")\n",
    "\n",
    "# Floor Division Assignment\n",
    "c = 15  # Reset value of c\n",
    "c = c // d  # Floor division result is an int, so no need to cast\n",
    "print(f\"Floor Division Assignment: c //= d results in c = {c}\")"
   ]
  },
  {
   "cell_type": "code",
   "execution_count": 3,
   "id": "8c7f61a7",
   "metadata": {},
   "outputs": [
    {
     "name": "stdout",
     "output_type": "stream",
     "text": [
      "Equal: 15 == 10 results in False\n",
      "Not Equal: 15 != 10 results in True\n",
      "Greater Than: 15 > 10 results in True\n",
      "Less Than: 15 < 10 results in False\n",
      "Greater Than or Equal To: 15 >= 10 results in True\n",
      "Less Than or Equal To: 15 <= 10 results in False\n"
     ]
    }
   ],
   "source": [
    "# Initializing variables\n",
    "x: int = 15\n",
    "y: int = 10\n",
    "\n",
    "# Comparison Operators\n",
    "\n",
    "# Equal\n",
    "result = x == y\n",
    "print(f\"Equal: {x} == {y} results in {result}\")\n",
    "\n",
    "# Not Equal\n",
    "result = x != y\n",
    "print(f\"Not Equal: {x} != {y} results in {result}\")\n",
    "\n",
    "# Greater Than\n",
    "result = x > y\n",
    "print(f\"Greater Than: {x} > {y} results in {result}\")\n",
    "\n",
    "# Less Than\n",
    "result = x < y\n",
    "print(f\"Less Than: {x} < {y} results in {result}\")\n",
    "\n",
    "# Greater Than or Equal To\n",
    "result = x >= y\n",
    "print(f\"Greater Than or Equal To: {x} >= {y} results in {result}\")\n",
    "\n",
    "# Less Than or Equal To\n",
    "result = x <= y\n",
    "print(f\"Less Than or Equal To: {x} <= {y} results in {result}\")"
   ]
  },
  {
   "cell_type": "code",
   "execution_count": 4,
   "id": "a89f33bb",
   "metadata": {},
   "outputs": [
    {
     "name": "stdout",
     "output_type": "stream",
     "text": [
      "Logical AND: (e < 10) and (f > 5) results in True\n",
      "Logical OR: (e < 10) or (f < 5) results in True\n",
      "Logical NOT: not((e < 10) and (f < 15)) results in False\n"
     ]
    }
   ],
   "source": [
    "# Initializing variables\n",
    "e: int = 7\n",
    "f: int = 12\n",
    "\n",
    "# Logical Operators\n",
    "\n",
    "# and: Returns True if both statements are true\n",
    "result = (e < 10) and (f > 5)\n",
    "print(f\"Logical AND: (e < 10) and (f > 5) results in {result}\")\n",
    "\n",
    "# or: Returns True if one of the statements is true\n",
    "result = (e < 10) or (f < 5)\n",
    "print(f\"Logical OR: (e < 10) or (f < 5) results in {result}\")\n",
    "\n",
    "# not: Reverse the result, returns False if the result is true\n",
    "result = not ((e < 10) and (f < 15))\n",
    "print(f\"Logical NOT: not((e < 10) and (f < 15)) results in {result}\")"
   ]
  },
  {
   "cell_type": "code",
   "execution_count": 5,
   "id": "5c72da90",
   "metadata": {},
   "outputs": [
    {
     "name": "stdout",
     "output_type": "stream",
     "text": [
      "Identity IS: g is h results in True\n",
      "Identity IS NOT: g is not h results in False\n",
      "Identity IS with lists: g_list is h_list results in False\n",
      "Identity IS after reassignment: g_list is h_list results in True\n"
     ]
    }
   ],
   "source": [
    "# Initializing variables\n",
    "g: int = 5\n",
    "h: int = 5\n",
    "\n",
    "# Identity Operators\n",
    "\n",
    "# is: Returns True if both variables point to the same object\n",
    "result = (g is h)\n",
    "print(f\"Identity IS: g is h results in {result}\")\n",
    "\n",
    "# is not: Returns True if both variables point to different objects\n",
    "result = (g is not h)\n",
    "print(f\"Identity IS NOT: g is not h results in {result}\")\n",
    "\n",
    "# Additional demonstration with mutable types\n",
    "# Note: For mutable types (like lists), is checks if they refer to the same object in memory\n",
    "g_list: list = [1, 2, 3]\n",
    "h_list: list = [1, 2, 3]\n",
    "\n",
    "# Checking identity for mutable types\n",
    "result = (g_list is h_list)\n",
    "print(f\"Identity IS with lists: g_list is h_list results in {result}\")\n",
    "\n",
    "# Checking identity for mutable types with same reference\n",
    "g_list = h_list  # Now g_list and h_list refer to the same object\n",
    "result = (g_list is h_list)\n",
    "print(f\"Identity IS after reassignment: g_list is h_list results in {result}\")"
   ]
  },
  {
   "cell_type": "code",
   "execution_count": 6,
   "id": "3fcf6baf",
   "metadata": {},
   "outputs": [
    {
     "name": "stdout",
     "output_type": "stream",
     "text": [
      "Membership IN: 3 in [1, 2, 3, 4, 5] results in True\n",
      "Membership NOT IN: 3 not in [1, 2, 3, 4, 5] results in False\n",
      "Membership IN with string: 'w' in 'hello world' results in True\n",
      "Membership NOT IN with string: 'w' not in 'hello world' results in False\n"
     ]
    }
   ],
   "source": [
    "# Initializing variables\n",
    "i: int = 3\n",
    "j: list = [1, 2, 3, 4, 5]\n",
    "\n",
    "# Membership Operators\n",
    "\n",
    "# in: Returns True if the value is present in the sequence\n",
    "result = (i in j)\n",
    "print(f\"Membership IN: {i} in {j} results in {result}\")\n",
    "\n",
    "# not in: Returns True if the value is not present in the sequence\n",
    "result = (i not in j)\n",
    "print(f\"Membership NOT IN: {i} not in {j} results in {result}\")\n",
    "\n",
    "# Additional examples with strings and other sequences\n",
    "\n",
    "# String example\n",
    "string: str = \"hello world\"\n",
    "char: str = 'w'\n",
    "\n",
    "# Checking membership in a string\n",
    "result = (char in string)\n",
    "print(f\"Membership IN with string: '{char}' in '{string}' results in {result}\")\n",
    "\n",
    "# Checking membership not in a string\n",
    "result = (char not in string)\n",
    "print(f\"Membership NOT IN with string: '{char}' not in '{string}' results in {result}\")"
   ]
  },
  {
   "cell_type": "markdown",
   "id": "d58f3f46",
   "metadata": {},
   "source": [
    "![PEMDAS](PEMDAS.jpeg)"
   ]
  }
 ],
 "metadata": {
  "kernelspec": {
   "display_name": "Python 3",
   "language": "python",
   "name": "python3"
  },
  "language_info": {
   "codemirror_mode": {
    "name": "ipython",
    "version": 3
   },
   "file_extension": ".py",
   "mimetype": "text/x-python",
   "name": "python",
   "nbconvert_exporter": "python",
   "pygments_lexer": "ipython3",
   "version": "3.12.2"
  }
 },
 "nbformat": 4,
 "nbformat_minor": 5
}
